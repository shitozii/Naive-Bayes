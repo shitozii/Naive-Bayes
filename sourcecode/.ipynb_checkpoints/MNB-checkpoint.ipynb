{
 "cells": [
  {
   "cell_type": "code",
   "execution_count": 4,
   "id": "eb5d5382",
   "metadata": {},
   "outputs": [
    {
     "name": "stderr",
     "output_type": "stream",
     "text": [
      "[nltk_data] Downloading package stopwords to\n",
      "[nltk_data]     C:\\Users\\Hi\\AppData\\Roaming\\nltk_data...\n",
      "[nltk_data]   Package stopwords is already up-to-date!\n",
      "[nltk_data] Downloading package wordnet to\n",
      "[nltk_data]     C:\\Users\\Hi\\AppData\\Roaming\\nltk_data...\n",
      "[nltk_data]   Package wordnet is already up-to-date!\n",
      "[nltk_data] Downloading package punkt to\n",
      "[nltk_data]     C:\\Users\\Hi\\AppData\\Roaming\\nltk_data...\n",
      "[nltk_data]   Package punkt is already up-to-date!\n",
      "[nltk_data] Downloading package omw-1.4 to\n",
      "[nltk_data]     C:\\Users\\Hi\\AppData\\Roaming\\nltk_data...\n",
      "[nltk_data]   Package omw-1.4 is already up-to-date!\n"
     ]
    }
   ],
   "source": [
    "# panda library to read csv file\n",
    "import pandas as pd\n",
    "\n",
    "# string library to use stopword dictionary\n",
    "import string as str\n",
    "\n",
    "# numpy for stronger caculate\n",
    "import numpy as np\n",
    "\n",
    "# nltk library to lemmatize or stemming word\n",
    "import nltk\n",
    "from nltk.corpus import stopwords\n",
    "from nltk.stem import WordNetLemmatizer\n",
    "from nltk.tokenize import word_tokenize\n",
    "import matplotlib.pyplot as plt\n",
    "\n",
    "#download all the necessary resource\n",
    "nltk.download('stopwords') \n",
    "nltk.download('wordnet')\n",
    "nltk.download('punkt')\n",
    "nltk.download('omw-1.4')\n",
    "\n",
    "#re library to filter the text\n",
    "import re"
   ]
  },
  {
   "cell_type": "code",
   "execution_count": 5,
   "id": "f1ed3283",
   "metadata": {},
   "outputs": [
    {
     "name": "stdout",
     "output_type": "stream",
     "text": [
      "    len label                                               text  label_num\n",
      "0   605   ham  Subject: enron methanol ; meter # : 988291\\r\\n...          0\n",
      "1  2349   ham  Subject: hpl nom for january 9 , 2001\\r\\n( see...          0\n",
      "2  3624   ham  Subject: neon retreat\\r\\nho ho ho , we ' re ar...          0\n",
      "3  4685  spam  Subject: photoshop , windows , office . cheap ...          1\n",
      "4  2030   ham  Subject: re : indian springs\\r\\nthis deal is t...          0\n"
     ]
    },
    {
     "data": {
      "image/png": "[encoded data removed]",
      "text/plain": [
       "<Figure size 432x288 with 1 Axes>"
      ]
     },
     "metadata": {},
     "output_type": "display_data"
    }
   ],
   "source": [
    "df=pd.read_csv(\"spam_ham_dataset.csv\")\n",
    "print(df.head(5))\n",
    "plt.pie(df['label'].value_counts(), labels = ['ham','spam'],autopct='%.2f%%')\n",
    "plt.show()"
   ]
  },
  {
   "cell_type": "code",
   "execution_count": 7,
   "id": "cc735e4d",
   "metadata": {},
   "outputs": [],
   "source": [
    "def pre_process(text):\n",
    "    #lower case all the text\n",
    "    text_lower=text.lower()\n",
    "    #remove all the url in the text\n",
    "    text_no_link=re.sub(r\"http\\S+\", \"\", text_lower)\n",
    "    #remove all digit,punctuation,... and only keep the alphabetic words\n",
    "    text_clean=re.sub(r'[^a-z]', ' ', text_no_link)\n",
    "    text_clean=\" \".join(text_clean.split())\n",
    "    #use wordnet lemmatizer to lemmatize the text\n",
    "    wnl = WordNetLemmatizer()\n",
    "    #tokenize to make array of words\n",
    "    words = word_tokenize(text_clean)\n",
    "    #remove all stop word such as a,he,she,many,...\n",
    "    word_no_stop=[word for word in words if word not in stopwords.words('english')]\n",
    "    #lemmatize all the text\n",
    "    word_lemmatize=[wnl.lemmatize(word) for word in word_no_stop]\n",
    "    return word_lemmatize"
   ]
  },
  {
   "cell_type": "code",
   "execution_count": null,
   "id": "1299bc12",
   "metadata": {},
   "outputs": [],
   "source": [
    "df[\"text\"]=df[\"text\"].apply(pre_process)"
   ]
  },
  {
   "cell_type": "code",
   "execution_count": 11,
   "id": "8c0db67f",
   "metadata": {},
   "outputs": [
    {
     "name": "stdout",
     "output_type": "stream",
     "text": [
      "0       [subject, enron, methanol, meter, follow, note...\n",
      "1       [subject, hpl, nom, january, see, attached, fi...\n",
      "2       [subject, neon, retreat, ho, ho, ho, around, w...\n",
      "3       [subject, photoshop, window, office, cheap, ma...\n",
      "4       [subject, indian, spring, deal, book, teco, pv...\n",
      "                              ...                        \n",
      "5166    [subject, put, ft, transport, volume, decrease...\n",
      "5167    [subject, following, noms, hpl, take, extra, m...\n",
      "5168    [subject, calpine, daily, gas, nomination, jul...\n",
      "5169    [subject, industrial, worksheet, august, activ...\n",
      "5170    [subject, important, online, banking, alert, d...\n",
      "Name: text, Length: 5171, dtype: object\n"
     ]
    }
   ],
   "source": [
    "print(df[\"text\"])"
   ]
  },
  {
   "cell_type": "code",
   "execution_count": 12,
   "id": "83ec2111",
   "metadata": {},
   "outputs": [],
   "source": [
    "train_set = df.sample(frac=0.8,random_state=1).reset_index(drop=True)\n",
    "test_set = df.drop(train_set.index).reset_index(drop=True)\n",
    "train_set = train_set.reset_index(drop=True)"
   ]
  },
  {
   "cell_type": "code",
   "execution_count": 13,
   "id": "1b4f5894",
   "metadata": {},
   "outputs": [
    {
     "data": {
      "image/png": "[encoded data removed]",
      "text/plain": [
       "<Figure size 432x288 with 1 Axes>"
      ]
     },
     "metadata": {},
     "output_type": "display_data"
    }
   ],
   "source": [
    "plt.pie(test_set['label'].value_counts(), labels = ['ham','spam'],autopct='%.2f%%')\n",
    "plt.show()"
   ]
  },
  {
   "cell_type": "code",
   "execution_count": 15,
   "id": "80cb0502",
   "metadata": {},
   "outputs": [
    {
     "name": "stdout",
     "output_type": "stream",
     "text": [
      "(4137, 4)\n"
     ]
    },
    {
     "data": {
      "image/png": "[encoded data removed]",
      "text/plain": [
       "<Figure size 432x288 with 1 Axes>"
      ]
     },
     "metadata": {},
     "output_type": "display_data"
    }
   ],
   "source": [
    "plt.pie(train_set['label'].value_counts(), labels = ['ham','spam'],autopct='%.2f%%')\n",
    "plt.show\n",
    "print(train_set.shape)"
   ]
  },
  {
   "cell_type": "code",
   "execution_count": 16,
   "id": "5eb28134",
   "metadata": {},
   "outputs": [],
   "source": [
    "#about 16s\n",
    "#--------create vocabulary dictionary for the train set---------\n",
    "\n",
    "#list of distinct words in the vocabulary\n",
    "vocabulary = list(set(train_set['text'].sum()))\n",
    "\n",
    "#for each vocabulary word assign it with a value: empty list\n",
    "listarr=np.empty((len(vocabulary), 0)).tolist()\n",
    "vocab=dict(zip(vocabulary,listarr))\n",
    "\n",
    "#initialize the value of each empty list [0,0]\n",
    "#the first value of this list is the frequency of word that appear in the ham email\n",
    "#for the second is the frequency of word that appear in spam email\n",
    "vocab.update((k,[0,0]) for k in vocab) "
   ]
  },
  {
   "cell_type": "code",
   "execution_count": 17,
   "id": "3595e7f7",
   "metadata": {},
   "outputs": [],
   "source": [
    "#---------caculate the frequency of each word in vocabulary in ham and spam email----------\n",
    "train_size=train_set.shape[0]\n",
    "for i in range(train_size):\n",
    "    for word in train_set['text'][i]:\n",
    "      if(train_set['label'][i]=='ham'):\n",
    "        vocab[word][0]+=1 \n",
    "      if(train_set['label'][i]=='spam'):\n",
    "        vocab[word][1]+=1"
   ]
  },
  {
   "cell_type": "code",
   "execution_count": 18,
   "id": "00a8cbd9",
   "metadata": {},
   "outputs": [],
   "source": [
    "#----------intitialize all the necessary parameter and write Naive Bayes classifier----------------\n",
    "#sum of the length of all document whose label is spam\n",
    "num_of_spam=train_set.loc[train_set[\"label\"] == \"spam\", \"text\"].apply(len).sum()\n",
    "\n",
    "#sum of the length of all document whose label is ham\n",
    "num_of_ham=train_set.loc[train_set[\"label\"] == \"ham\", \"text\"].apply(len).sum()\n",
    "\n",
    "#probality of spam email in the training set\n",
    "p_spam =  train_set['label'].value_counts()['spam']/ train_size\n",
    "\n",
    "#probality of ham email in the training set\n",
    "p_ham =  train_set['label'].value_counts()['ham'] / train_size\n",
    "\n",
    "#size of the vocabulary \n",
    "num_of_voc=len(vocab)\n",
    "\n",
    "#function to caculate P(word[i]|spam)\n",
    "def p_spam_word_MNB(word):\n",
    "    if word in vocab:\n",
    "      return (vocab[word][1]+1)/(num_of_spam+num_of_voc)\n",
    "    else:\n",
    "      return 1/(num_of_spam+num_of_voc)\n",
    "\n",
    "#function to caculate P(word[i]|hpam)\n",
    "def p_ham_word_MNB(word):\n",
    "  if word in vocab:\n",
    "      return (vocab[word][0]+1)/(num_of_ham+num_of_voc)\n",
    "  else:\n",
    "      return 1/(num_of_ham+num_of_voc)\n",
    "\n",
    "#Multinomial Naive Bayes classifier: \n",
    "def MNB_classifier(message):\n",
    "    p_spam_messge = np.log10(p_spam)\n",
    "    p_ham_messge = np.log10(p_ham)\n",
    "    for word in message:\n",
    "        p_spam_messge += np.log10(p_spam_word_MNB(word))\n",
    "        p_ham_messge += np.log10(p_ham_word_MNB(word))\n",
    "    if p_ham_messge >= p_spam_messge:\n",
    "        return 'ham'\n",
    "    elif p_ham_messge < p_spam_messge:\n",
    "        return 'spam'  "
   ]
  },
  {
   "cell_type": "code",
   "execution_count": 19,
   "id": "6bdb861f",
   "metadata": {},
   "outputs": [
    {
     "name": "stdout",
     "output_type": "stream",
     "text": [
      "98.62218999274836\n"
     ]
    }
   ],
   "source": [
    "train_set['predict'] = train_set['text'].apply(MNB_classifier)\n",
    "correct_train = (train_set['predict'] == train_set['label']).sum() / train_size * 100 #in %\n",
    "print(correct_train)"
   ]
  },
  {
   "cell_type": "code",
   "execution_count": 20,
   "id": "ec594d28",
   "metadata": {},
   "outputs": [
    {
     "name": "stdout",
     "output_type": "stream",
     "text": [
      "98.64603481624758\n"
     ]
    }
   ],
   "source": [
    "test_set['predict'] = test_set['text'].apply(MNB_classifier)\n",
    "correct_test = (test_set['predict'] == test_set['label']).sum() / test_set.shape[0] *100 #in %\n",
    "print(correct_test)"
   ]
  },
  {
   "cell_type": "code",
   "execution_count": 22,
   "id": "91781662",
   "metadata": {},
   "outputs": [
    {
     "name": "stdout",
     "output_type": "stream",
     "text": [
      "              precision    recall  f1-score   support\n",
      "\n",
      "         ham     0.9861    0.9944    0.9902       714\n",
      "        spam     0.9873    0.9688    0.9779       320\n",
      "\n",
      "    accuracy                         0.9865      1034\n",
      "   macro avg     0.9867    0.9816    0.9841      1034\n",
      "weighted avg     0.9865    0.9865    0.9864      1034\n",
      "\n",
      "[[710   4]\n",
      " [ 10 310]]\n",
      "0.9864603481624759\n"
     ]
    }
   ],
   "source": [
    "from sklearn.metrics import classification_report,confusion_matrix,accuracy_score\n",
    "print(classification_report(test_set['label'],test_set['predict'],digits=4))\n",
    "print(confusion_matrix(test_set['label'],test_set['predict']))\n",
    "print(accuracy_score(test_set['label'],test_set['predict']))\n"
   ]
  },
  {
   "cell_type": "code",
   "execution_count": 23,
   "id": "44f5dadc",
   "metadata": {},
   "outputs": [],
   "source": [
    "import pickle\n",
    "pickle.dump(MNB_classifier,open(\"MNB_clf.pkl\",\"wb\"))"
   ]
  },
  {
   "cell_type": "code",
   "execution_count": 25,
   "id": "abcc7a88",
   "metadata": {},
   "outputs": [],
   "source": [
    "MNB_clf=pickle.load(open(\"MNB_clf.pkl\",\"rb\"))"
   ]
  },
  {
   "cell_type": "code",
   "execution_count": 26,
   "id": "e6beef37",
   "metadata": {},
   "outputs": [
    {
     "data": {
      "text/plain": [
       "<function __main__.MNB_classifier(message)>"
      ]
     },
     "execution_count": 26,
     "metadata": {},
     "output_type": "execute_result"
    }
   ],
   "source": []
  },
  {
   "cell_type": "code",
   "execution_count": 27,
   "id": "490225ad",
   "metadata": {},
   "outputs": [],
   "source": [
    "pickle.dump(pre_process,open(\"pre_process.pkl\",\"wb\"))"
   ]
  },
  {
   "cell_type": "code",
   "execution_count": 28,
   "id": "73e9f379",
   "metadata": {},
   "outputs": [],
   "source": [
    "data_processing=pickle.load(open(\"pre_process.pkl\",\"rb\"))"
   ]
  },
  {
   "cell_type": "code",
   "execution_count": 30,
   "id": "b5c5292b",
   "metadata": {},
   "outputs": [
    {
     "name": "stdout",
     "output_type": "stream",
     "text": [
      "ham\n"
     ]
    }
   ],
   "source": [
    "data=\"What are you doing now?\"\n",
    "data=data_processing(data)\n",
    "print(MNB_clf(data))"
   ]
  },
  {
   "cell_type": "code",
   "execution_count": null,
   "id": "8d841db9",
   "metadata": {},
   "outputs": [],
   "source": []
  }
 ],
 "metadata": {
  "kernelspec": {
   "display_name": "Python 3 (ipykernel)",
   "language": "python",
   "name": "python3"
  },
  "language_info": {
   "codemirror_mode": {
    "name": "ipython",
    "version": 3
   },
   "file_extension": ".py",
   "mimetype": "text/x-python",
   "name": "python",
   "nbconvert_exporter": "python",
   "pygments_lexer": "ipython3",
   "version": "3.10.0"
  }
 },
 "nbformat": 4,
 "nbformat_minor": 5
}

{
 "cells": [
  {
   "cell_type": "code",
   "execution_count": 1,
   "id": "d6aff50e",
   "metadata": {},
   "outputs": [
    {
     "name": "stderr",
     "output_type": "stream",
     "text": [
      "[nltk_data] Downloading package stopwords to\n",
      "[nltk_data]     C:\\Users\\Hi\\AppData\\Roaming\\nltk_data...\n",
      "[nltk_data]   Package stopwords is already up-to-date!\n",
      "[nltk_data] Downloading package wordnet to\n",
      "[nltk_data]     C:\\Users\\Hi\\AppData\\Roaming\\nltk_data...\n",
      "[nltk_data]   Package wordnet is already up-to-date!\n",
      "[nltk_data] Downloading package punkt to\n",
      "[nltk_data]     C:\\Users\\Hi\\AppData\\Roaming\\nltk_data...\n",
      "[nltk_data]   Package punkt is already up-to-date!\n",
      "[nltk_data] Downloading package omw-1.4 to\n",
      "[nltk_data]     C:\\Users\\Hi\\AppData\\Roaming\\nltk_data...\n",
      "[nltk_data]   Package omw-1.4 is already up-to-date!\n"
     ]
    }
   ],
   "source": [
    "# panda library to read csv file\n",
    "import pandas as pd\n",
    "\n",
    "# string library to use stopword dictionary\n",
    "import string as str\n",
    "\n",
    "# numpy for stronger caculate\n",
    "import numpy as np\n",
    "\n",
    "# nltk library to lemmatize or stemming word\n",
    "import nltk\n",
    "from nltk.corpus import stopwords\n",
    "from nltk.stem import WordNetLemmatizer\n",
    "from nltk.tokenize import word_tokenize\n",
    "import matplotlib.pyplot as plt\n",
    "\n",
    "#download all the necessary resource\n",
    "nltk.download('stopwords') \n",
    "nltk.download('wordnet')\n",
    "nltk.download('punkt')\n",
    "nltk.download('omw-1.4')\n",
    "\n",
    "#re library to filter the text\n",
    "import re"
   ]
  },
  {
   "cell_type": "code",
   "execution_count": 2,
   "id": "34914897",
   "metadata": {},
   "outputs": [
    {
     "name": "stdout",
     "output_type": "stream",
     "text": [
      "    len label                                               text  label_num\n",
      "0   605   ham  Subject: enron methanol ; meter # : 988291\\r\\n...          0\n",
      "1  2349   ham  Subject: hpl nom for january 9 , 2001\\r\\n( see...          0\n",
      "2  3624   ham  Subject: neon retreat\\r\\nho ho ho , we ' re ar...          0\n",
      "3  4685  spam  Subject: photoshop , windows , office . cheap ...          1\n",
      "4  2030   ham  Subject: re : indian springs\\r\\nthis deal is t...          0\n"
     ]
    },
    {
     "data": {
      "image/png": "[encoded data removed]",
      "text/plain": [
       "<Figure size 432x288 with 1 Axes>"
      ]
     },
     "metadata": {},
     "output_type": "display_data"
    }
   ],
   "source": [
    "df=pd.read_csv(\"spam_ham_dataset.csv\")\n",
    "print(df.head(5))\n",
    "plt.pie(df['label'].value_counts(), labels = ['ham','spam'],autopct='%.2f%%')\n",
    "plt.show()"
   ]
  },
  {
   "cell_type": "code",
   "execution_count": 3,
   "id": "6266aa26",
   "metadata": {},
   "outputs": [],
   "source": [
    "def pre_process(text):\n",
    "    #lower case all the text\n",
    "    text_lower=text.lower()\n",
    "    #remove all the url in the text\n",
    "    text_no_link=re.sub(r\"http\\S+\", \"\", text_lower)\n",
    "    #remove all digit,punctuation,... and only keep the alphabetic words\n",
    "    text_clean=re.sub(r'[^a-z]', ' ', text_no_link)\n",
    "    text_clean=\" \".join(text_clean.split())\n",
    "    #use wordnet lemmatizer to lemmatize the text\n",
    "    wnl = WordNetLemmatizer()\n",
    "    #tokenize to make array of words\n",
    "    words = word_tokenize(text_clean)\n",
    "    #remove all stop word such as a,he,she,many,...\n",
    "    word_no_stop=[word for word in words if word not in stopwords.words('english')]\n",
    "    #lemmatize all the text\n",
    "    word_lemmatize=[wnl.lemmatize(word) for word in word_no_stop]\n",
    "    #remove duplicate\n",
    "    word_lemmatize_no_dup=list(dict.fromkeys(word_lemmatize))\n",
    "    #return the final result\n",
    "    return word_lemmatize_no_dup"
   ]
  },
  {
   "cell_type": "code",
   "execution_count": 4,
   "id": "3f6c7ae0",
   "metadata": {},
   "outputs": [],
   "source": [
    "df[\"text\"]=df[\"text\"].apply(pre_process)"
   ]
  },
  {
   "cell_type": "code",
   "execution_count": 5,
   "id": "4d012481",
   "metadata": {},
   "outputs": [
    {
     "data": {
      "text/html": [
       "<div>\n",
       "<style scoped>\n",
       "    .dataframe tbody tr th:only-of-type {\n",
       "        vertical-align: middle;\n",
       "    }\n",
       "\n",
       "    .dataframe tbody tr th {\n",
       "        vertical-align: top;\n",
       "    }\n",
       "\n",
       "    .dataframe thead th {\n",
       "        text-align: right;\n",
       "    }\n",
       "</style>\n",
       "<table border=\"1\" class=\"dataframe\">\n",
       "  <thead>\n",
       "    <tr style=\"text-align: right;\">\n",
       "      <th></th>\n",
       "      <th>len</th>\n",
       "      <th>label</th>\n",
       "      <th>text</th>\n",
       "      <th>label_num</th>\n",
       "    </tr>\n",
       "  </thead>\n",
       "  <tbody>\n",
       "    <tr>\n",
       "      <th>0</th>\n",
       "      <td>605</td>\n",
       "      <td>ham</td>\n",
       "      <td>[subject, enron, methanol, meter, follow, note...</td>\n",
       "      <td>0</td>\n",
       "    </tr>\n",
       "    <tr>\n",
       "      <th>1</th>\n",
       "      <td>2349</td>\n",
       "      <td>ham</td>\n",
       "      <td>[subject, hpl, nom, january, see, attached, fi...</td>\n",
       "      <td>0</td>\n",
       "    </tr>\n",
       "    <tr>\n",
       "      <th>2</th>\n",
       "      <td>3624</td>\n",
       "      <td>ham</td>\n",
       "      <td>[subject, neon, retreat, ho, around, wonderful...</td>\n",
       "      <td>0</td>\n",
       "    </tr>\n",
       "    <tr>\n",
       "      <th>3</th>\n",
       "      <td>4685</td>\n",
       "      <td>spam</td>\n",
       "      <td>[subject, photoshop, window, office, cheap, ma...</td>\n",
       "      <td>1</td>\n",
       "    </tr>\n",
       "    <tr>\n",
       "      <th>4</th>\n",
       "      <td>2030</td>\n",
       "      <td>ham</td>\n",
       "      <td>[subject, indian, spring, deal, book, teco, pv...</td>\n",
       "      <td>0</td>\n",
       "    </tr>\n",
       "  </tbody>\n",
       "</table>\n",
       "</div>"
      ],
      "text/plain": [
       "    len label                                               text  label_num\n",
       "0   605   ham  [subject, enron, methanol, meter, follow, note...          0\n",
       "1  2349   ham  [subject, hpl, nom, january, see, attached, fi...          0\n",
       "2  3624   ham  [subject, neon, retreat, ho, around, wonderful...          0\n",
       "3  4685  spam  [subject, photoshop, window, office, cheap, ma...          1\n",
       "4  2030   ham  [subject, indian, spring, deal, book, teco, pv...          0"
      ]
     },
     "execution_count": 5,
     "metadata": {},
     "output_type": "execute_result"
    }
   ],
   "source": [
    "df.head(5)"
   ]
  },
  {
   "cell_type": "code",
   "execution_count": 6,
   "id": "67a3b4b2",
   "metadata": {},
   "outputs": [],
   "source": [
    "train_set = df.sample(frac=0.8,random_state=1).reset_index(drop=True)\n",
    "test_set = df.drop(train_set.index).reset_index(drop=True)\n",
    "train_set = train_set.reset_index(drop=True)"
   ]
  },
  {
   "cell_type": "code",
   "execution_count": 7,
   "id": "a4c508d2",
   "metadata": {},
   "outputs": [],
   "source": [
    "#about 16s\n",
    "#--------create vocabulary dictionary for the train set---------\n",
    "\n",
    "#list of distinct words in the vocabulary\n",
    "vocabulary = list(set(train_set['text'].sum()))\n",
    "\n",
    "#for each vocabulary word assign it with a value: empty list\n",
    "listarr=np.empty((len(vocabulary), 0)).tolist()\n",
    "vocab=dict(zip(vocabulary,listarr))\n",
    "\n",
    "#initialize the value of each empty list [0,0]\n",
    "#the first value of this list is the frequency of word that appear in the ham email\n",
    "#for the second is the frequency of word that appear in spam email\n",
    "vocab.update((k,[0,0]) for k in vocab) "
   ]
  },
  {
   "cell_type": "code",
   "execution_count": 8,
   "id": "f11e8ac9",
   "metadata": {},
   "outputs": [],
   "source": [
    "train_size=train_set.shape[0]\n",
    "for i in range(train_size):\n",
    "    for word in train_set['text'][i]:\n",
    "      if(train_set['label'][i]=='ham'):\n",
    "        vocab[word][0]+=1 \n",
    "      if(train_set['label'][i]=='spam'):\n",
    "        vocab[word][1]+=1"
   ]
  },
  {
   "cell_type": "code",
   "execution_count": 9,
   "id": "e8da76e9",
   "metadata": {},
   "outputs": [],
   "source": [
    "#number of spam email in the training set\n",
    "num_of_spam = train_set['label'].value_counts()['spam']\n",
    "\n",
    "#number of ham email in the training set\n",
    "num_of_ham = train_set['label'].value_counts()['ham']\n",
    "\n",
    "#probality of spam email in the training set\n",
    "p_spam =  num_of_spam / train_size\n",
    "\n",
    "#probality of ham email in the training set\n",
    "p_ham =  num_of_ham / train_size\n",
    "\n",
    "\n",
    "#function to caculate P(word[i]|spam)\n",
    "def p_spam_word(word):\n",
    "    if word in vocab:\n",
    "      return (vocab[word][1]+1)/(num_of_spam+2)\n",
    "    else:\n",
    "      return 1/(num_of_spam+2)\n",
    "\n",
    "#function to caculate P(word[i]|ham)\n",
    "def p_ham_word(word):\n",
    "  if word in vocab:\n",
    "      return (vocab[word][0]+1)/(num_of_ham+2)\n",
    "  else:\n",
    "      return 1/(num_of_ham+2)\n",
    "def classify(message):\n",
    "    p_spam_messge = np.log10(p_spam)\n",
    "    p_ham_messge = np.log10(p_ham)\n",
    "    for word in message:\n",
    "        p_spam_messge += np.log10(p_spam_word(word))\n",
    "        p_ham_messge += np.log10(p_ham_word(word))\n",
    "    if p_ham_messge >= p_spam_messge:\n",
    "        return 'ham'\n",
    "    elif p_ham_messge < p_spam_messge:\n",
    "        return 'spam'  "
   ]
  },
  {
   "cell_type": "code",
   "execution_count": 10,
   "id": "a6a56566",
   "metadata": {},
   "outputs": [
    {
     "name": "stdout",
     "output_type": "stream",
     "text": [
      "94.0053178631859\n"
     ]
    }
   ],
   "source": [
    "#------------------training--------------------\n",
    "train_set['predict'] = train_set['text'].apply(classify)\n",
    "correct_train = (train_set['predict'] == train_set['label']).sum() / train_size * 100 #in %\n",
    "print(correct_train)"
   ]
  },
  {
   "cell_type": "code",
   "execution_count": 14,
   "id": "5d7144b0",
   "metadata": {},
   "outputs": [
    {
     "name": "stdout",
     "output_type": "stream",
     "text": [
      "              precision    recall  f1-score   support\n",
      "\n",
      "         ham     0.9923    0.9224    0.9561      2926\n",
      "        spam     0.8398    0.9827    0.9056      1211\n",
      "\n",
      "    accuracy                         0.9401      4137\n",
      "   macro avg     0.9160    0.9525    0.9309      4137\n",
      "weighted avg     0.9476    0.9401    0.9413      4137\n",
      "\n",
      "[[2699  227]\n",
      " [  21 1190]]\n",
      "0.9400531786318589\n"
     ]
    }
   ],
   "source": [
    "from sklearn.metrics import classification_report,confusion_matrix,accuracy_score\n",
    "print(classification_report(train_set['label'],train_set['predict'],digits=4))\n",
    "print(confusion_matrix(train_set['label'],train_set['predict']))\n",
    "print(accuracy_score(train_set['label'],train_set['predict']))"
   ]
  },
  {
   "cell_type": "code",
   "execution_count": 11,
   "id": "428edd08",
   "metadata": {},
   "outputs": [
    {
     "name": "stdout",
     "output_type": "stream",
     "text": [
      "94.1972920696325\n"
     ]
    }
   ],
   "source": [
    "test_set['predict'] = test_set['text'].apply(classify)\n",
    "correct_test = (test_set['predict'] == test_set['label']).sum() / test_set.shape[0] *100 #in %\n",
    "print(correct_test)"
   ]
  },
  {
   "cell_type": "code",
   "execution_count": 12,
   "id": "70afd510",
   "metadata": {},
   "outputs": [
    {
     "name": "stdout",
     "output_type": "stream",
     "text": [
      "              precision    recall  f1-score   support\n",
      "\n",
      "         ham     0.9955    0.9202    0.9563       714\n",
      "        spam     0.8476    0.9906    0.9135       320\n",
      "\n",
      "    accuracy                         0.9420      1034\n",
      "   macro avg     0.9215    0.9554    0.9349      1034\n",
      "weighted avg     0.9497    0.9420    0.9431      1034\n",
      "\n",
      "[[657  57]\n",
      " [  3 317]]\n",
      "0.941972920696325\n"
     ]
    }
   ],
   "source": [
    "from sklearn.metrics import classification_report,confusion_matrix,accuracy_score\n",
    "print(classification_report(test_set['label'],test_set['predict'],digits=4))\n",
    "print(confusion_matrix(test_set['label'],test_set['predict']))\n",
    "print(accuracy_score(test_set['label'],test_set['predict']))"
   ]
  },
  {
   "cell_type": "code",
   "execution_count": null,
   "id": "00c355eb",
   "metadata": {},
   "outputs": [],
   "source": []
  }
 ],
 "metadata": {
  "kernelspec": {
   "display_name": "Python 3.10.0 64-bit",
   "language": "python",
   "name": "python3"
  },
  "language_info": {
   "codemirror_mode": {
    "name": "ipython",
    "version": 3
   },
   "file_extension": ".py",
   "mimetype": "text/x-python",
   "name": "python",
   "nbconvert_exporter": "python",
   "pygments_lexer": "ipython3",
   "version": "3.10.0"
  },
  "vscode": {
   "interpreter": {
    "hash": "c728dbc4aed828251185f02a54f942dd69048eef6941a0a1ec827c23a26af55c"
   }
  }
 },
 "nbformat": 4,
 "nbformat_minor": 5
}
